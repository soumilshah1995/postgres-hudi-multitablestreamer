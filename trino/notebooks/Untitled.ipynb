{
 "cells": [
  {
   "cell_type": "markdown",
   "id": "9e1d12ba-d628-4271-a898-9d4b7f4294df",
   "metadata": {},
   "source": [
    "# Apache Hudi MultiTable Streamer with Postgres Debezium and Kafka Bulding Near Real time lakehouse"
   ]
  },
  {
   "cell_type": "markdown",
   "id": "977d8be7-bfc0-4117-8af7-26f58915fa98",
   "metadata": {},
   "source": [
    "# Sync Command \n",
    "```\n",
    "spark-submit \\\n",
    "    --class  org.apache.hudi.utilities.deltastreamer.HoodieMultiTableDeltaStreamer \\\n",
    "    --packages 'org.apache.hudi:hudi-spark3.4-bundle_2.12:0.14.0,org.apache.hadoop:hadoop-aws:3.3.2' \\\n",
    "    --properties-file /Users/soumilshah/IdeaProjects/lakehouse-streamer/universal-datalakehouse-postgres-ingestion-deltastreamer/streamer/spark-config.properties \\\n",
    "    --master 'local[*]' \\\n",
    "    --executor-memory 1g \\\n",
    "    /Users/soumilshah/IdeaProjects/lakehouse-streamer/universal-datalakehouse-postgres-ingestion-deltastreamer/jar/hudi-utilities-slim-bundle_2.12-0.14.0.jar \\\n",
    "    --op UPSERT \\\n",
    "    --enable-hive-sync \\\n",
    "    --table-type COPY_ON_WRITE \\\n",
    "    --source-ordering-field _event_origin_ts_ms \\\n",
    "    --source-class org.apache.hudi.utilities.sources.debezium.PostgresDebeziumSource \\\n",
    "    --payload-class org.apache.hudi.common.model.debezium.PostgresDebeziumAvroPayload \\\n",
    "    --base-path-prefix s3a://warehouse/tmp3 \\\n",
    "    --target-table customers,orders \\\n",
    "    --config-folder /Users/soumilshah/IdeaProjects/lakehouse-streamer/universal-datalakehouse-postgres-ingestion-deltastreamer/streamer/configfolder/ \\\n",
    "    --props /Users/soumilshah/IdeaProjects/lakehouse-streamer/universal-datalakehouse-postgres-ingestion-deltastreamer/streamer/configfolder/source.properties\n",
    "```"
   ]
  },
  {
   "cell_type": "markdown",
   "id": "7a773cbd-0c98-4cd7-bda5-d83abf0ae4e0",
   "metadata": {},
   "source": [
    "# Query the Hudi tables"
   ]
  },
  {
   "cell_type": "markdown",
   "id": "1fae7304-be62-471c-8eee-9ac72fdf2f00",
   "metadata": {},
   "source": [
    "# Install Trino python packages\n",
    "```\n",
    "pip install trino\n",
    "pip install ipython-sql\n",
    "\n",
    "```"
   ]
  },
  {
   "cell_type": "markdown",
   "id": "9dd5b6ec-dc36-4666-abfd-2a3d7321fc55",
   "metadata": {},
   "source": [
    "# Read data as HUDI "
   ]
  },
  {
   "cell_type": "code",
   "execution_count": 1,
   "id": "4d063637-aab8-4c7c-968b-d9dab3548030",
   "metadata": {},
   "outputs": [
    {
     "name": "stdout",
     "output_type": "stream",
     "text": [
      " * trino://admin@localhost:8080/default\n",
      "Done.\n",
      " * trino://admin@localhost:8080/default\n",
      "Done.\n",
      " * trino://admin@localhost:8080/default\n",
      "Done.\n"
     ]
    },
    {
     "data": {
      "text/html": [
       "<table>\n",
       "    <thead>\n",
       "        <tr>\n",
       "            <th>Table</th>\n",
       "        </tr>\n",
       "    </thead>\n",
       "    <tbody>\n",
       "        <tr>\n",
       "            <td>customer</td>\n",
       "        </tr>\n",
       "        <tr>\n",
       "            <td>orders</td>\n",
       "        </tr>\n",
       "    </tbody>\n",
       "</table>"
      ],
      "text/plain": [
       "[('customer',), ('orders',)]"
      ]
     },
     "execution_count": 1,
     "metadata": {},
     "output_type": "execute_result"
    }
   ],
   "source": [
    "%load_ext sql\n",
    "%sql trino://admin@localhost:8080/default\n",
    "%sql SHOW CATALOGS\n",
    "%sql USE hudi.default\n",
    "%sql show tables"
   ]
  },
  {
   "cell_type": "code",
   "execution_count": 2,
   "id": "3e49e25d-5423-437a-9118-bc918c0d153e",
   "metadata": {},
   "outputs": [
    {
     "name": "stdout",
     "output_type": "stream",
     "text": [
      " * trino://admin@localhost:8080/default\n",
      "Done.\n"
     ]
    },
    {
     "data": {
      "text/html": [
       "<table>\n",
       "    <thead>\n",
       "        <tr>\n",
       "            <th>customer_id</th>\n",
       "            <th>email</th>\n",
       "        </tr>\n",
       "    </thead>\n",
       "    <tbody>\n",
       "        <tr>\n",
       "            <td>512f8b17-2d60-4ad8-8c94-7ecb38d03e51</td>\n",
       "            <td>liam.johnson@example.com</td>\n",
       "        </tr>\n",
       "        <tr>\n",
       "            <td>9c4eeb2a-1d04-4579-9f14-b13b703e9d9a</td>\n",
       "            <td>ella.collins@example.com</td>\n",
       "        </tr>\n",
       "        <tr>\n",
       "            <td>bb559489-b346-46b2-a15b-5b7d4ddc78c4</td>\n",
       "            <td>travis61@example.org</td>\n",
       "        </tr>\n",
       "        <tr>\n",
       "            <td>1298fe7d-6586-4554-8f36-3db482ba94a5</td>\n",
       "            <td>sharon99@example.com</td>\n",
       "        </tr>\n",
       "    </tbody>\n",
       "</table>"
      ],
      "text/plain": [
       "[('512f8b17-2d60-4ad8-8c94-7ecb38d03e51', 'liam.johnson@example.com'),\n",
       " ('9c4eeb2a-1d04-4579-9f14-b13b703e9d9a', 'ella.collins@example.com'),\n",
       " ('bb559489-b346-46b2-a15b-5b7d4ddc78c4', 'travis61@example.org'),\n",
       " ('1298fe7d-6586-4554-8f36-3db482ba94a5', 'sharon99@example.com')]"
      ]
     },
     "execution_count": 2,
     "metadata": {},
     "output_type": "execute_result"
    }
   ],
   "source": [
    "%sql SELECT customer_id,email FROM customer "
   ]
  },
  {
   "cell_type": "code",
   "execution_count": 3,
   "id": "70483402-6522-48e6-a5cb-606967fcb2fa",
   "metadata": {},
   "outputs": [
    {
     "name": "stdout",
     "output_type": "stream",
     "text": [
      " * trino://admin@localhost:8080/default\n",
      "Done.\n"
     ]
    },
    {
     "data": {
      "text/html": [
       "<table>\n",
       "    <thead>\n",
       "        <tr>\n",
       "            <th>order_id</th>\n",
       "            <th>priority</th>\n",
       "            <th>customer_id</th>\n",
       "        </tr>\n",
       "    </thead>\n",
       "    <tbody>\n",
       "        <tr>\n",
       "            <td>79e3edc5-dcbc-4604-900e-d6a7af925f12</td>\n",
       "            <td>LOW</td>\n",
       "            <td>1298fe7d-6586-4554-8f36-3db482ba94a5</td>\n",
       "        </tr>\n",
       "        <tr>\n",
       "            <td>6c4ae4e5-fc73-44d6-b85e-512ac073c4c7</td>\n",
       "            <td>MEDIUM</td>\n",
       "            <td>1298fe7d-6586-4554-8f36-3db482ba94a5</td>\n",
       "        </tr>\n",
       "        <tr>\n",
       "            <td>f11e2db1-a0b4-4c21-b31d-e62066a11f33</td>\n",
       "            <td>HIGH</td>\n",
       "            <td>512f8b17-2d60-4ad8-8c94-7ecb38d03e51</td>\n",
       "        </tr>\n",
       "        <tr>\n",
       "            <td>1e6f81e2-f1b4-464b-9af6-8cbd1bd08c1a</td>\n",
       "            <td>HIGH</td>\n",
       "            <td>bb559489-b346-46b2-a15b-5b7d4ddc78c4</td>\n",
       "        </tr>\n",
       "        <tr>\n",
       "            <td>d304f7cb-6fa8-45b6-a6cb-3d3eb1b1f66f</td>\n",
       "            <td>MEDIUM</td>\n",
       "            <td>9c4eeb2a-1d04-4579-9f14-b13b703e9d9a</td>\n",
       "        </tr>\n",
       "        <tr>\n",
       "            <td>a459d9e4-7e95-4c71-98af-bdd23bf67f31</td>\n",
       "            <td>LOW</td>\n",
       "            <td>512f8b17-2d60-4ad8-8c94-7ecb38d03e51</td>\n",
       "        </tr>\n",
       "        <tr>\n",
       "            <td>e8939a8f-1476-4b46-bf24-fd33e3af9832</td>\n",
       "            <td>HIGH</td>\n",
       "            <td>bb559489-b346-46b2-a15b-5b7d4ddc78c4</td>\n",
       "        </tr>\n",
       "        <tr>\n",
       "            <td>33c0d6d8-d7d3-4f6c-9172-8328b13dc7df</td>\n",
       "            <td>HIGH</td>\n",
       "            <td>9c4eeb2a-1d04-4579-9f14-b13b703e9d9a</td>\n",
       "        </tr>\n",
       "    </tbody>\n",
       "</table>"
      ],
      "text/plain": [
       "[('79e3edc5-dcbc-4604-900e-d6a7af925f12', 'LOW', '1298fe7d-6586-4554-8f36-3db482ba94a5'),\n",
       " ('6c4ae4e5-fc73-44d6-b85e-512ac073c4c7', 'MEDIUM', '1298fe7d-6586-4554-8f36-3db482ba94a5'),\n",
       " ('f11e2db1-a0b4-4c21-b31d-e62066a11f33', 'HIGH', '512f8b17-2d60-4ad8-8c94-7ecb38d03e51'),\n",
       " ('1e6f81e2-f1b4-464b-9af6-8cbd1bd08c1a', 'HIGH', 'bb559489-b346-46b2-a15b-5b7d4ddc78c4'),\n",
       " ('d304f7cb-6fa8-45b6-a6cb-3d3eb1b1f66f', 'MEDIUM', '9c4eeb2a-1d04-4579-9f14-b13b703e9d9a'),\n",
       " ('a459d9e4-7e95-4c71-98af-bdd23bf67f31', 'LOW', '512f8b17-2d60-4ad8-8c94-7ecb38d03e51'),\n",
       " ('e8939a8f-1476-4b46-bf24-fd33e3af9832', 'HIGH', 'bb559489-b346-46b2-a15b-5b7d4ddc78c4'),\n",
       " ('33c0d6d8-d7d3-4f6c-9172-8328b13dc7df', 'HIGH', '9c4eeb2a-1d04-4579-9f14-b13b703e9d9a')]"
      ]
     },
     "execution_count": 3,
     "metadata": {},
     "output_type": "execute_result"
    }
   ],
   "source": [
    "%sql SELECT order_id,priority,customer_id FROM orders "
   ]
  },
  {
   "cell_type": "markdown",
   "id": "db61e47e-e4e0-43b5-be8d-36f6d59684d1",
   "metadata": {},
   "source": [
    "# Update the Record on Postgres"
   ]
  },
  {
   "attachments": {
    "7c19802e-4465-4fe1-8861-f7ffc8b39247.png": {
     "image/png": "[encoded data removed]"
    }
   },
   "cell_type": "markdown",
   "id": "d2c2fdc6-301e-4c74-8bc3-18e475f662d7",
   "metadata": {},
   "source": [
    "# ![image.png](attachment:7c19802e-4465-4fe1-8861-f7ffc8b39247.png)"
   ]
  },
  {
   "cell_type": "markdown",
   "id": "8e9db504-af37-4e86-afae-bb8e08c692dd",
   "metadata": {},
   "source": [
    "# Sync Command \n",
    "```\n",
    "spark-submit \\\n",
    "    --class  org.apache.hudi.utilities.deltastreamer.HoodieMultiTableDeltaStreamer \\\n",
    "    --packages 'org.apache.hudi:hudi-spark3.4-bundle_2.12:0.14.0,org.apache.hadoop:hadoop-aws:3.3.2' \\\n",
    "    --properties-file /Users/soumilshah/IdeaProjects/lakehouse-streamer/universal-datalakehouse-postgres-ingestion-deltastreamer/streamer/spark-config.properties \\\n",
    "    --master 'local[*]' \\\n",
    "    --executor-memory 1g \\\n",
    "    /Users/soumilshah/IdeaProjects/lakehouse-streamer/universal-datalakehouse-postgres-ingestion-deltastreamer/jar/hudi-utilities-slim-bundle_2.12-0.14.0.jar \\\n",
    "    --op UPSERT \\\n",
    "    --enable-hive-sync \\\n",
    "    --table-type COPY_ON_WRITE \\\n",
    "    --source-ordering-field _event_origin_ts_ms \\\n",
    "    --source-class org.apache.hudi.utilities.sources.debezium.PostgresDebeziumSource \\\n",
    "    --payload-class org.apache.hudi.common.model.debezium.PostgresDebeziumAvroPayload \\\n",
    "    --base-path-prefix s3a://warehouse/tmp3 \\\n",
    "    --target-table customers,orders \\\n",
    "    --config-folder /Users/soumilshah/IdeaProjects/lakehouse-streamer/universal-datalakehouse-postgres-ingestion-deltastreamer/streamer/configfolder/ \\\n",
    "    --props /Users/soumilshah/IdeaProjects/lakehouse-streamer/universal-datalakehouse-postgres-ingestion-deltastreamer/streamer/configfolder/source.properties\n",
    "```"
   ]
  },
  {
   "cell_type": "code",
   "execution_count": 4,
   "id": "2927d8ea-f811-44a4-9d10-394cd74dc9e9",
   "metadata": {
    "scrolled": true
   },
   "outputs": [
    {
     "name": "stdout",
     "output_type": "stream",
     "text": [
      " * trino://admin@localhost:8080/default\n",
      "Done.\n"
     ]
    },
    {
     "data": {
      "text/html": [
       "<table>\n",
       "    <thead>\n",
       "        <tr>\n",
       "            <th>customer_id</th>\n",
       "            <th>email</th>\n",
       "        </tr>\n",
       "    </thead>\n",
       "    <tbody>\n",
       "        <tr>\n",
       "            <td>bb559489-b346-46b2-a15b-5b7d4ddc78c4</td>\n",
       "            <td>***@example.org</td>\n",
       "        </tr>\n",
       "        <tr>\n",
       "            <td>9c4eeb2a-1d04-4579-9f14-b13b703e9d9a</td>\n",
       "            <td>ella.collins@example.com</td>\n",
       "        </tr>\n",
       "        <tr>\n",
       "            <td>512f8b17-2d60-4ad8-8c94-7ecb38d03e51</td>\n",
       "            <td>liam.johnson@example.com</td>\n",
       "        </tr>\n",
       "        <tr>\n",
       "            <td>1298fe7d-6586-4554-8f36-3db482ba94a5</td>\n",
       "            <td>sharon99@example.com</td>\n",
       "        </tr>\n",
       "    </tbody>\n",
       "</table>"
      ],
      "text/plain": [
       "[('bb559489-b346-46b2-a15b-5b7d4ddc78c4', '***@example.org'),\n",
       " ('9c4eeb2a-1d04-4579-9f14-b13b703e9d9a', 'ella.collins@example.com'),\n",
       " ('512f8b17-2d60-4ad8-8c94-7ecb38d03e51', 'liam.johnson@example.com'),\n",
       " ('1298fe7d-6586-4554-8f36-3db482ba94a5', 'sharon99@example.com')]"
      ]
     },
     "execution_count": 4,
     "metadata": {},
     "output_type": "execute_result"
    }
   ],
   "source": [
    "%sql SELECT customer_id,email FROM customer "
   ]
  },
  {
   "cell_type": "markdown",
   "id": "631c3f09-eb97-4aaa-b7a1-e079f91cb233",
   "metadata": {},
   "source": [
    "# Deletes"
   ]
  },
  {
   "cell_type": "code",
   "execution_count": 5,
   "id": "1493f642-59b7-4df0-97ca-3049564fdcb5",
   "metadata": {},
   "outputs": [
    {
     "name": "stdout",
     "output_type": "stream",
     "text": [
      " * trino://admin@localhost:8080/default\n",
      "Done.\n"
     ]
    },
    {
     "data": {
      "text/html": [
       "<table>\n",
       "    <thead>\n",
       "        <tr>\n",
       "            <th>_col0</th>\n",
       "        </tr>\n",
       "    </thead>\n",
       "    <tbody>\n",
       "        <tr>\n",
       "            <td>8</td>\n",
       "        </tr>\n",
       "    </tbody>\n",
       "</table>"
      ],
      "text/plain": [
       "[(8,)]"
      ]
     },
     "execution_count": 5,
     "metadata": {},
     "output_type": "execute_result"
    }
   ],
   "source": [
    "%sql SELECT COUNT(*) FROM orders "
   ]
  },
  {
   "cell_type": "markdown",
   "id": "01f4be60-6c48-470a-905d-001fd7df8e0d",
   "metadata": {},
   "source": [
    "# Deletes on posgres \n",
    "-- DELETE FROM public.orders WHERE order_id = 'd304f7cb-6fa8-45b6-a6cb-3d3eb1b1f66f'\n"
   ]
  },
  {
   "cell_type": "code",
   "execution_count": 6,
   "id": "c15523df-eaf6-47ec-950a-57201090f09b",
   "metadata": {},
   "outputs": [
    {
     "name": "stdout",
     "output_type": "stream",
     "text": [
      " * trino://admin@localhost:8080/default\n",
      "Done.\n"
     ]
    },
    {
     "data": {
      "text/html": [
       "<table>\n",
       "    <thead>\n",
       "        <tr>\n",
       "            <th>_col0</th>\n",
       "        </tr>\n",
       "    </thead>\n",
       "    <tbody>\n",
       "        <tr>\n",
       "            <td>7</td>\n",
       "        </tr>\n",
       "    </tbody>\n",
       "</table>"
      ],
      "text/plain": [
       "[(7,)]"
      ]
     },
     "execution_count": 6,
     "metadata": {},
     "output_type": "execute_result"
    }
   ],
   "source": [
    "%sql SELECT COUNT(*) FROM orders "
   ]
  },
  {
   "cell_type": "markdown",
   "id": "2f7dbb12-b4a2-4bc2-8463-b9d2ea5f18df",
   "metadata": {},
   "source": [
    "# Great "
   ]
  },
  {
   "cell_type": "code",
   "execution_count": 15,
   "id": "a46f16d6-a832-4907-8527-23ef9ac649cf",
   "metadata": {},
   "outputs": [
    {
     "name": "stdout",
     "output_type": "stream",
     "text": [
      " * trino://admin@localhost:8080/default\n",
      "Done.\n"
     ]
    },
    {
     "data": {
      "text/html": [
       "<table>\n",
       "    <thead>\n",
       "        <tr>\n",
       "            <th>_hoodie_commit_time</th>\n",
       "            <th>_hoodie_commit_seqno</th>\n",
       "            <th>_hoodie_record_key</th>\n",
       "            <th>_hoodie_partition_path</th>\n",
       "            <th>_hoodie_file_name</th>\n",
       "            <th>_change_operation_type</th>\n",
       "            <th>_upstream_event_processed_ts_ms</th>\n",
       "            <th>db_shard_source_partition</th>\n",
       "            <th>db_schema_source_partition</th>\n",
       "            <th>_event_origin_ts_ms</th>\n",
       "            <th>_event_tx_id</th>\n",
       "            <th>_event_lsn</th>\n",
       "            <th>_event_xmin</th>\n",
       "            <th>customer_id</th>\n",
       "            <th>name</th>\n",
       "            <th>city</th>\n",
       "            <th>email</th>\n",
       "            <th>created_at</th>\n",
       "            <th>address</th>\n",
       "            <th>state</th>\n",
       "        </tr>\n",
       "    </thead>\n",
       "    <tbody>\n",
       "        <tr>\n",
       "            <td>20241123144658138</td>\n",
       "            <td>20241123144658138_0_0</td>\n",
       "            <td>bb559489-b346-46b2-a15b-5b7d4ddc78c4</td>\n",
       "            <td>state=Maryland</td>\n",
       "            <td>229d6d75-68c3-4048-9489-23ff57984cfd-0_0-17-20_20241123144658138.parquet</td>\n",
       "            <td>u</td>\n",
       "            <td>1732391208719</td>\n",
       "            <td>hive</td>\n",
       "            <td>public</td>\n",
       "            <td>1732391208690</td>\n",
       "            <td>859</td>\n",
       "            <td>25985152</td>\n",
       "            <td>None</td>\n",
       "            <td>bb559489-b346-46b2-a15b-5b7d4ddc78c4</td>\n",
       "            <td>Victoria Romero</td>\n",
       "            <td>East Stacy</td>\n",
       "            <td>***@example.org</td>\n",
       "            <td>1682518140000000</td>\n",
       "            <td>21179 Audrey Locker Suite 928</td>\n",
       "            <td>Maryland</td>\n",
       "        </tr>\n",
       "        <tr>\n",
       "            <td>20241123144602254</td>\n",
       "            <td>20241123144602254_2_0</td>\n",
       "            <td>9c4eeb2a-1d04-4579-9f14-b13b703e9d9a</td>\n",
       "            <td>state=California</td>\n",
       "            <td>1c0fc88d-50e1-4053-8938-28ed291d457b-0_2-26-36_20241123144602254.parquet</td>\n",
       "            <td>r</td>\n",
       "            <td>1732390416170</td>\n",
       "            <td>hive</td>\n",
       "            <td>public</td>\n",
       "            <td>1732390416170</td>\n",
       "            <td>841</td>\n",
       "            <td>25931920</td>\n",
       "            <td>None</td>\n",
       "            <td>9c4eeb2a-1d04-4579-9f14-b13b703e9d9a</td>\n",
       "            <td>Ella Collins</td>\n",
       "            <td>West Cliffside</td>\n",
       "            <td>ella.collins@example.com</td>\n",
       "            <td>1681992000000000</td>\n",
       "            <td>1029 Vista Parkway Apt 304</td>\n",
       "            <td>California</td>\n",
       "        </tr>\n",
       "        <tr>\n",
       "            <td>20241123144602254</td>\n",
       "            <td>20241123144602254_0_0</td>\n",
       "            <td>1298fe7d-6586-4554-8f36-3db482ba94a5</td>\n",
       "            <td>state=Florida</td>\n",
       "            <td>1e4d21f4-12e2-4213-99f6-d5fc840a59a5-0_0-26-34_20241123144602254.parquet</td>\n",
       "            <td>r</td>\n",
       "            <td>1732390416170</td>\n",
       "            <td>hive</td>\n",
       "            <td>public</td>\n",
       "            <td>1732390416170</td>\n",
       "            <td>841</td>\n",
       "            <td>25931920</td>\n",
       "            <td>None</td>\n",
       "            <td>1298fe7d-6586-4554-8f36-3db482ba94a5</td>\n",
       "            <td>Nathaniel Tate</td>\n",
       "            <td>North Kelly</td>\n",
       "            <td>sharon99@example.com</td>\n",
       "            <td>1682518140000000</td>\n",
       "            <td>591 Thomas Heights Suite 103</td>\n",
       "            <td>Florida</td>\n",
       "        </tr>\n",
       "        <tr>\n",
       "            <td>20241123144602254</td>\n",
       "            <td>20241123144602254_3_0</td>\n",
       "            <td>512f8b17-2d60-4ad8-8c94-7ecb38d03e51</td>\n",
       "            <td>state=Texas</td>\n",
       "            <td>7dbb9422-6488-4432-862b-b056aa31584e-0_3-26-37_20241123144602254.parquet</td>\n",
       "            <td>r</td>\n",
       "            <td>1732390416170</td>\n",
       "            <td>hive</td>\n",
       "            <td>public</td>\n",
       "            <td>1732390416170</td>\n",
       "            <td>841</td>\n",
       "            <td>25931920</td>\n",
       "            <td>None</td>\n",
       "            <td>512f8b17-2d60-4ad8-8c94-7ecb38d03e51</td>\n",
       "            <td>Liam Johnson</td>\n",
       "            <td>South Pine</td>\n",
       "            <td>liam.johnson@example.com</td>\n",
       "            <td>1681549200000000</td>\n",
       "            <td>4678 Oakwood Drive</td>\n",
       "            <td>Texas</td>\n",
       "        </tr>\n",
       "    </tbody>\n",
       "</table>"
      ],
      "text/plain": [
       "[('20241123144658138', '20241123144658138_0_0', 'bb559489-b346-46b2-a15b-5b7d4ddc78c4', 'state=Maryland', '229d6d75-68c3-4048-9489-23ff57984cfd-0_0-17-20_20241123144658138.parquet', 'u', 1732391208719, 'hive', 'public', 1732391208690, 859, 25985152, None, 'bb559489-b346-46b2-a15b-5b7d4ddc78c4', 'Victoria Romero', 'East Stacy', '***@example.org', 1682518140000000, '21179 Audrey Locker Suite 928', 'Maryland'),\n",
       " ('20241123144602254', '20241123144602254_2_0', '9c4eeb2a-1d04-4579-9f14-b13b703e9d9a', 'state=California', '1c0fc88d-50e1-4053-8938-28ed291d457b-0_2-26-36_20241123144602254.parquet', 'r', 1732390416170, 'hive', 'public', 1732390416170, 841, 25931920, None, '9c4eeb2a-1d04-4579-9f14-b13b703e9d9a', 'Ella Collins', 'West Cliffside', 'ella.collins@example.com', 1681992000000000, '1029 Vista Parkway Apt 304', 'California'),\n",
       " ('20241123144602254', '20241123144602254_0_0', '1298fe7d-6586-4554-8f36-3db482ba94a5', 'state=Florida', '1e4d21f4-12e2-4213-99f6-d5fc840a59a5-0_0-26-34_20241123144602254.parquet', 'r', 1732390416170, 'hive', 'public', 1732390416170, 841, 25931920, None, '1298fe7d-6586-4554-8f36-3db482ba94a5', 'Nathaniel Tate', 'North Kelly', 'sharon99@example.com', 1682518140000000, '591 Thomas Heights Suite 103', 'Florida'),\n",
       " ('20241123144602254', '20241123144602254_3_0', '512f8b17-2d60-4ad8-8c94-7ecb38d03e51', 'state=Texas', '7dbb9422-6488-4432-862b-b056aa31584e-0_3-26-37_20241123144602254.parquet', 'r', 1732390416170, 'hive', 'public', 1732390416170, 841, 25931920, None, '512f8b17-2d60-4ad8-8c94-7ecb38d03e51', 'Liam Johnson', 'South Pine', 'liam.johnson@example.com', 1681549200000000, '4678 Oakwood Drive', 'Texas')]"
      ]
     },
     "execution_count": 15,
     "metadata": {},
     "output_type": "execute_result"
    }
   ],
   "source": [
    "%sql SELECT * FROM default.customer "
   ]
  }
 ],
 "metadata": {
  "kernelspec": {
   "display_name": "Python 3 (ipykernel)",
   "language": "python",
   "name": "python3"
  },
  "language_info": {
   "codemirror_mode": {
    "name": "ipython",
    "version": 3
   },
   "file_extension": ".py",
   "mimetype": "text/x-python",
   "name": "python",
   "nbconvert_exporter": "python",
   "pygments_lexer": "ipython3",
   "version": "3.11.7"
  }
 },
 "nbformat": 4,
 "nbformat_minor": 5
}
